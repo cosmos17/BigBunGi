{
 "cells": [
  {
   "cell_type": "markdown",
   "metadata": {},
   "source": [
    "## 작업형 1 : 01\n",
    "주어진 데이터셋(Exp_01_Type1_01_Car93.csv)을 이용하여 Wheelbase 컬럼에 대해서 평균 값에서 표준편차의 1.5배, 2배, 2.5배를 더하거나 뺀 값들의 구간 내의 데이터들의 평균을 각각 구한 후 원래의 데이터 평균에서 뺐을 때 차이들의 합을 출력하여라. (단, 결과 출력시 소수점 다섯째 자리에서 반올림하여 표현할 것)\n",
    "* dataset 위치 : /ide/data/Exp_01_Type1_01_Car93.csv"
   ]
  },
  {
   "cell_type": "code",
   "execution_count": null,
   "metadata": {},
   "outputs": [],
   "source": [
    "# 데이터셋 불러오기\n",
    "import pandas as pd\n",
    "import numpy as np\n",
    "\n",
    "exam1 = pd.read_csv('/ide/data/Exp_01_Type1_01_Car93.csv')\n",
    "w_mean = exam1['Wheelbase'].mean()\n",
    "w_std = exam1['Wheelbase'].std() \n",
    "\n",
    "r15 = [w_mean - w_std * 1.5, w_mean + w_std * 1.5]\n",
    "r20 = [w_mean - w_std * 2.0, w_mean + w_std * 2.0]\n",
    "r25 = [w_mean - w_std * 2.5, w_mean + w_std * 2.5]\n",
    "\n",
    "w_15 = exam1[(exam1['Wheelbase'] >= r15[0]) & (exam1['Wheelbase'] <= r15[1])]\n",
    "w_20 = exam1[(exam1['Wheelbase'] >= r20[0]) & (exam1['Wheelbase'] <= r20[1])]\n",
    "w_25 = exam1[(exam1['Wheelbase'] >= r25[0]) & (exam1['Wheelbase'] <= r25[1])]\n",
    "\n",
    "w15_m = w_15['Wheelbase'].mean()\n",
    "w20_m = w_20['Wheelbase'].mean()\n",
    "w25_m = w_25['Wheelbase'].mean()\n",
    "\n",
    "print(np.round(w_mean *3 - w15_m - w20_m - w25_m, 5))"
   ]
  },
  {
   "cell_type": "markdown",
   "metadata": {},
   "source": [
    "## 작업형1 : 02\n",
    "주어진 데이터셋(Exp_01_Type1_02_Car93.csv)을 이용하여 Length 컬럼에 대해서 순위를 부여한 후, 1위부터 30위까지 값들의 표준 편차를 구하고 소수점 셋째 자리까지 반올림하여 나타내어라. (단, 동점이 발생할 경우 평균낸 등수를 일괄적으로 부여하며, 최솟값을 1위로 함)\n",
    "* dataset 위치 : /ide/data/Exp_01_Type1_02_Car93.csv"
   ]
  },
  {
   "cell_type": "code",
   "execution_count": null,
   "metadata": {},
   "outputs": [],
   "source": [
    "# 데이터셋 불러오기\n",
    "import pandas as pd\n",
    "import numpy as np\n",
    "\n",
    "exam2 = pd.read_csv('/ide/data/Exp_01_Type1_02_Car93.csv')\n",
    "\n",
    "l30 = exam2['Length'].sort_values(ascending=False)[:30]\n",
    "\n",
    "print(np.round(l30.std(), 3))"
   ]
  },
  {
   "cell_type": "markdown",
   "metadata": {},
   "source": [
    "## 작업형1 : 03\n",
    "주어진 데이터셋(Exp_01_Type1_03_Car93.csv)을 이용하여 프리미엄 버전 가격(Max_Price) 컬럼과 기본 버전 가격(Min_Price) 컬럼에 대해서 각각 정렬한 후 정렬된 순서에 따라 레코드별로 두 컬럼의 차이를 산출하고 차이값에 대해 표준편차를 구하여라. (단, 프리미엄 버전 가격의 정렬은 내림차순, 기본 버전 가격의 정렬은 오름차순으로 하며, 출력시 표준편차는 소수점 넷째 자리에서 반올림하여 표현할 것)\n",
    "* dataset 위치 : /ide/data/Exp_01_Type1_03_Car93.csv"
   ]
  },
  {
   "cell_type": "code",
   "execution_count": null,
   "metadata": {},
   "outputs": [],
   "source": [
    "# 데이터셋 불러오기\n",
    "import pandas as pd\n",
    "import numpy as np\n",
    "\n",
    "exam3 = pd.read_csv('/ide/data/Exp_01_Type1_03_Car93.csv')\n",
    "\n",
    "dataMx = exam3.sort_values(by='Max_Price', ascending=False)\n",
    "dataMn = exam3.sort_values(by='Min_Price', ascending=True)\n",
    "\n",
    "print(np.round((dataMx['Max_Price'] - dataMn['Min_Price']).std(), 4))"
   ]
  },
  {
   "cell_type": "markdown",
   "metadata": {},
   "source": [
    "## 작업형1 : 04\n",
    "\n",
    "주어진 데이터셋(Exp_01_Type1_04_Car93.csv)을 이용하여 Weight 컬럼을 최소-최대(Min-Max) 정규화로 데이터 변환한 후, 0.5보다 작은 값들의 분산과 0.5보다 큰 값들의 분산의 차이를 구하여라.(단, 차이는 큰 값에서 작은 값을 빼서 구하며, 소수점 넷째 자리에서 반올림하여 표현할 것)\n",
    "* dataset 위치 : /ide/data/Exp_01_Type1_04_Car93.csv"
   ]
  },
  {
   "cell_type": "code",
   "execution_count": null,
   "metadata": {},
   "outputs": [],
   "source": [
    "# 데이터셋 불러오기\n",
    "import pandas as pd\n",
    "import numpy as np\n",
    "\n",
    "exam4 = pd.read_csv('/ide/data/Exp_01_Type1_04_Car93.csv')\n",
    "# exam4 = pd.read_csv('Cars93.csv')\n",
    "\n",
    "we_min, we_max = exam4['Weight'].min(), exam4['Weight'].max()\n",
    "weight = exam4['Weight'].copy()\n",
    "weight = (weight - we_min) / (we_max - we_min)\n",
    "\n",
    "under05 = weight[weight < 0.5]\n",
    "over05 = weight[weight > 0.5]\n",
    "\n",
    "print(np.round(over05.var() - under05.var(), 4))"
   ]
  },
  {
   "cell_type": "markdown",
   "metadata": {},
   "source": [
    "## 작업형1 : 05\n",
    "주어진 데이터셋(Exp_01_Type1_05_Car93.csv)을 이용하여 Manufacturer, Origin 컬럼의 유일값 조합의 수와 Manufacturer 컬럼의 앞 두글자만 추출한 결과와 Origin 컬럼과의 유일값 조합  수를 각각 계산하고 두 결과의 차이를 구하여라. (단, 원래 유일값 조합 수에서 추출 이후 수를 뺄 것)\n",
    "* dataset 위치 : /ide/data/Exp_01_Type1_05_Car93.csv"
   ]
  },
  {
   "cell_type": "code",
   "execution_count": null,
   "metadata": {},
   "outputs": [],
   "source": [
    "# 데이터셋 불러오기\n",
    "import pandas as pd\n",
    "import numpy as np\n",
    "\n",
    "exam5 = pd.read_csv('/ide/data/Exp_01_Type1_05_Car93.csv')\n",
    "\n",
    "n1 = np.unique(exam5.loc[:, ['Manufacturer', 'Origin']])\n",
    "\n",
    "data = pd.concat([exam5['Manufacturer'].str[:2], exam5['Origin']], axis=1)\n",
    "n2 = np.unique(data.loc[:, ['Manufacturer', 'Origin']])\n",
    "\n",
    "print(len(n1) - len(n2))"
   ]
  },
  {
   "cell_type": "markdown",
   "metadata": {},
   "source": [
    "## 작업형1 : 06\n",
    "주어진 데이터셋(Exp_01_Type1_06_Car93.csv)을 이용하여 컬럼 Type, Man_trans_avail에 대한 그룹별 RPM 레코드수와 RPM 합계, 중앙값을 모두 구한 후, 그룹별 중앙값에서 그룹별 합계에서 레코드 수를 나눈 값들을 빼서 나온 결과의 총 원소 합을 구하여라. (단, 출력시 소수점은 첫째 자리에서 반올림하여 표현할 것)\n",
    "* dataset 위치 : /ide/data/Exp_01_Type1_06_Car93.csv"
   ]
  },
  {
   "cell_type": "code",
   "execution_count": null,
   "metadata": {},
   "outputs": [],
   "source": [
    "# 데이터셋 불러오기\n",
    "import pandas as pd\n",
    "import numpy as np\n",
    "\n",
    "exam6 = pd.read_csv('/ide/data/Exp_01_Type1_06_Car93.csv')\n",
    "\n",
    "gcount = exam6.groupby(by=['Type', 'Man_trans_avail'])['RPM'].count()\n",
    "gsum = exam6.groupby(by=['Type', 'Man_trans_avail'])['RPM'].sum()\n",
    "gmedian = exam6.groupby(by=['Type', 'Man_trans_avail'])['RPM'].median()\n",
    "\n",
    "print(np.round(sum(gmedian - (gsum / gcount)), 1))"
   ]
  },
  {
   "cell_type": "markdown",
   "metadata": {},
   "source": [
    "## 작업형1 : 07\n",
    "주어진 데이터셋(Exp_01_Type1_07_Car93.csv)을 이용하여 RPM 컬럼의 결측치를 평균으로 대체하고 RPM와 Wheelbase 컬럼을 각각 z-점수 표준화한 후 표준화된 Wheelbase에 상수 –36을 곱한 값과 표준화된 RPM 컬럼의 차이값을 구하고 표준편차를 산출하여라. (단, 소수점 셋째 자리까지 반올림하여 표현할 것)\n",
    "* dataset 위치 : /ide/data/Exp_01_Type1_07_Car93.csv"
   ]
  },
  {
   "cell_type": "code",
   "execution_count": null,
   "metadata": {},
   "outputs": [],
   "source": [
    "# 데이터셋 불러오기\n",
    "import pandas as pd\n",
    "import numpy as np\n",
    "\n",
    "exam7 = pd.read_csv('/ide/data/Exp_01_Type1_07_Car93.csv')\n",
    "exam7['RPM'] = exam7['RPM'].fillna(exam7['RPM'].mean())\n",
    "\n",
    "R_mean, R_std = exam7['RPM'].mean(), exam7['RPM'].std()\n",
    "W_mean, W_std = exam7['Wheelbase'].mean(), exam7['Wheelbase'].std()\n",
    "\n",
    "exam7['RPM'] = (exam7['RPM'] - R_mean) / R_std\n",
    "exam7['Wheelbase'] = (exam7['Wheelbase'] - W_mean) / W_std\n",
    "\n",
    "exam7['Wheelbase'] = exam7['Wheelbase'] * -36\n",
    "\n",
    "RW = exam7['Wheelbase'] - exam7['RPM']\n",
    "print(np.round(RW.std(), 3))"
   ]
  },
  {
   "cell_type": "markdown",
   "metadata": {},
   "source": [
    "## 작업형1 : 08\n",
    "\n",
    "주어진 데이터셋(Exp_01_Type1_08_Car93.csv)을 이용하여 아래의 과정을 수행하고 최종 결과값을 출력하여라.(단, 결과 출력 시 소수점 이하는 모두 절삭하여 정수로 표현할 것)  \n",
    "  \n",
    "(가) Price 컬럼의 결측치를 평균으로 대체  \n",
    "(나) Max_Price 변수와 Min_Price의 평균보다 작은 레코드 만을 추출해 산출된 Origin 그룹별 Price의 합계 구하기  \n",
    "(다) Price 컬럼이 Min_Price 컬럼의 제 3사분위수보다 작은 레코드 만을 추출해 산출된 Origin별 Price의 합계를 Origin 그룹별로 합한 후 큰 값을 출력\n",
    " \n",
    "* dataset 위치 : /ide/data/Exp_01_Type1_08_Car93.csv"
   ]
  },
  {
   "cell_type": "code",
   "execution_count": null,
   "metadata": {},
   "outputs": [],
   "source": [
    "# 데이터셋 불러오기\n",
    "import pandas as pd\n",
    "\n",
    "exam8 = pd.read_csv('/ide/data/Exp_01_Type1_08_Car93.csv')\n",
    "\n",
    "# (가)\n",
    "exam8['Price'] = exam8['Price'].fillna(exam8['Price'].mean())\n",
    "\n",
    "# (나)\n",
    "maxmin_Pr = exam8.loc[exam8['Min_Price'] < exam8['Min_Price'].mean()]\n",
    "maxmin_Pr = maxmin_Pr[['Origin', 'Max_Price', 'Min_Price', 'Price']]\n",
    "\n",
    "mm_Pr2 = maxmin_Pr.groupby(by='Origin')['Price'].sum()\n",
    "# print(mm_Pr2)\n",
    "\n",
    "# (다)\n",
    "underQ3 = exam8.loc[exam8['Price'] < exam8['Min_Price'].quantile(0.75)]\n",
    "uQ32 = underQ3.groupby(by='Origin')['Price'].sum()\n",
    "# print(uQ32)\n",
    "\n",
    "print(int(max(list(mm_Pr2 + uQ32))))"
   ]
  },
  {
   "cell_type": "markdown",
   "metadata": {},
   "source": [
    "## 작업형1 : 09\n",
    "\n",
    "주어진 데이터셋(Exp_01_Type1_09_Car93.csv)에서 ‘Price’ 컬럼은 ‘Min_Price’와 ‘Max_Price’의 평균으로 알려져있다. 이와 같은 사실을 통해 ‘Price’ 컬럼의 결측치의 원래의 값을 계산한 후, ‘Price’가 14.7보다 작거나 25.3보다 크면서 ‘Large’ 타입인 레코드 수를 계산하여라.\n",
    "\n",
    "* dataset 위치 : /ide/data/Exp_01_Type1_09_Car93.csv"
   ]
  },
  {
   "cell_type": "code",
   "execution_count": null,
   "metadata": {},
   "outputs": [],
   "source": [
    "# 데이터셋 불러오기\n",
    "import pandas as pd\n",
    "\n",
    "exam9 = pd.read_csv('/ide/data/Exp_01_Type1_09_Car93.csv')\n",
    "\n",
    "exam9['Price'] = (exam9['Min_Price'] + exam9['Max_Price']) / 2\n",
    "\n",
    "priceL = exam9[(exam9['Price'] < 14.7) | (exam9['Price'] > 25.3)]\n",
    "priceL = exam9[exam9['Type'] == 'Large']\n",
    "print(len(priceL))"
   ]
  },
  {
   "cell_type": "markdown",
   "metadata": {},
   "source": [
    "## 작업형1 : 10\n",
    "\n",
    "주어진 데이터셋(Exp_01_Type1_10_Cars93.csv)에서 ‘Make’ 컬럼을 이용하여 제조사가 ‘Chevrolet’, ‘Pontiac’, ‘Hyundai’이면서 ‘AirBags’이 ‘Driver’에만 있는 경우의 레코드 수를 계산하여라.\n",
    "\n",
    "* dataset 위치 : /ide/data/Exp_01_Type1_10_Cars93.csv"
   ]
  },
  {
   "cell_type": "code",
   "execution_count": null,
   "metadata": {},
   "outputs": [],
   "source": [
    "# 데이터셋 불러오기\n",
    "import pandas as pd\n",
    "\n",
    "exam10 = pd.read_csv('/ide/data/Exp_01_Type1_10_Car93.csv')\n",
    "\n",
    "data2 = exam10[['Manufacturer', 'AirBags']]\n",
    "M_CPH = data2[data2['Manufacturer'].str.contains('Chevrolet|Pontiac|Hyundai')]\n",
    "driver = M_CPH[M_CPH['AirBags'] == 'Driver only']\n",
    "print(len(driver))"
   ]
  }
 ],
 "metadata": {
  "kernelspec": {
   "display_name": "Python 3",
   "language": "python",
   "name": "python3"
  },
  "language_info": {
   "codemirror_mode": {
    "name": "ipython",
    "version": 3
   },
   "file_extension": ".py",
   "mimetype": "text/x-python",
   "name": "python",
   "nbconvert_exporter": "python",
   "pygments_lexer": "ipython3",
   "version": "3.9.6"
  }
 },
 "nbformat": 4,
 "nbformat_minor": 2
}
